{
 "cells": [
  {
   "cell_type": "code",
   "execution_count": 6,
   "metadata": {},
   "outputs": [
    {
     "name": "stdout",
     "output_type": "stream",
     "text": [
      "Sum of elements in the list: 160\n"
     ]
    }
   ],
   "source": [
    "#find sum of list elements\n",
    "def sum_list_elements(lst):\n",
    "    return sum(lst)\n",
    "\n",
    "my_list = [10, 20, 35, 45, 50]\n",
    "\n",
    "print(\"Sum of elements in the list:\", sum_list_elements(my_list))\n"
   ]
  },
  {
   "cell_type": "code",
   "execution_count": 3,
   "metadata": {},
   "outputs": [
    {
     "name": "stdout",
     "output_type": "stream",
     "text": [
      "Largest element: 9\n"
     ]
    }
   ],
   "source": [
    "#find largest element in a list\n",
    "\n",
    "my_list = [1, 5, 3, 9, 2]\n",
    "largest = my_list[0]\n",
    "for num in my_list:\n",
    "    if num > largest:\n",
    "        largest = num\n",
    "print(\"Largest element:\", largest)\n"
   ]
  },
  {
   "cell_type": "code",
   "execution_count": 4,
   "metadata": {},
   "outputs": [
    {
     "name": "stdout",
     "output_type": "stream",
     "text": [
      "[1, 2, 3, 4, 5]\n"
     ]
    }
   ],
   "source": [
    "#remove duplicates in a list \n",
    "\n",
    "def remove_duplicates(lst):\n",
    "    return list(set(lst))\n",
    "\n",
    "my_list = [1, 2, 3, 2, 4, 1, 5]\n",
    "print(remove_duplicates(my_list)) "
   ]
  },
  {
   "cell_type": "code",
   "execution_count": 18,
   "metadata": {},
   "outputs": [
    {
     "name": "stdout",
     "output_type": "stream",
     "text": [
      "All elements are unique: True\n"
     ]
    }
   ],
   "source": [
    "#check if all elements in a list are unique\n",
    "\n",
    "my_list = [1, 2, 3, 4, 5]\n",
    "seen = []\n",
    "is_unique = True\n",
    "for num in my_list:\n",
    "    if num in seen:\n",
    "        is_unique = False\n",
    "        break\n",
    "    seen.append(num)\n",
    "print(\"All elements are unique:\", is_unique)\n"
   ]
  },
  {
   "cell_type": "code",
   "execution_count": 19,
   "metadata": {},
   "outputs": [
    {
     "name": "stdout",
     "output_type": "stream",
     "text": [
      "Original list: [1, 2, 3, 4, 5]\n",
      "Reversed list: [5, 4, 3, 2, 1]\n"
     ]
    }
   ],
   "source": [
    "#program to reverse list \n",
    "\n",
    "def reverse_list(lst):\n",
    "    return lst[::-1]\n",
    "\n",
    "my_list = [1, 2, 3, 4, 5]\n",
    "\n",
    "print(\"Original list:\", my_list)\n",
    "\n",
    "reversed_list = reverse_list(my_list)\n",
    "\n",
    "print(\"Reversed list:\", reversed_list)\n"
   ]
  },
  {
   "cell_type": "code",
   "execution_count": 22,
   "metadata": {},
   "outputs": [
    {
     "name": "stdout",
     "output_type": "stream",
     "text": [
      "Odd: 5, Even: 4\n"
     ]
    }
   ],
   "source": [
    "#count the number of odd and even numbers in a list  \n",
    "\n",
    "def count_odd_even(lst):\n",
    "    odd_count = 0\n",
    "    even_count = 0\n",
    "    for num in lst:\n",
    "        if num % 2 == 0:\n",
    "            even_count += 1\n",
    "        else:\n",
    "            odd_count += 1\n",
    "    return odd_count, even_count\n",
    "\n",
    "my_list = [1, 2, 3, 4, 5, 6, 7, 8, 9]\n",
    "odd, even = count_odd_even(my_list)\n",
    "print(f\"Odd: {odd}, Even: {even}\")\n"
   ]
  },
  {
   "cell_type": "code",
   "execution_count": 28,
   "metadata": {},
   "outputs": [
    {
     "name": "stdout",
     "output_type": "stream",
     "text": [
      "List1 is a subset of List2: True\n"
     ]
    }
   ],
   "source": [
    "#Check if a list is a subset of another list \n",
    "\n",
    "list1 = [1, 2, 3]\n",
    "list2 = [1, 2, 3, 4, 5]\n",
    "is_subset = set(list1).issubset(list2)\n",
    "print(\"List1 is a subset of List2:\", is_subset)"
   ]
  },
  {
   "cell_type": "code",
   "execution_count": 29,
   "metadata": {},
   "outputs": [
    {
     "name": "stdout",
     "output_type": "stream",
     "text": [
      "7\n"
     ]
    }
   ],
   "source": [
    "#find maximum difference between two consecutive elements in a list \n",
    "\n",
    "def max_diff_consecutive(lst):\n",
    "    max_diff = 0\n",
    "    for i in range(1, len(lst)):\n",
    "        diff = abs(lst[i] - lst[i - 1])\n",
    "        if diff > max_diff:\n",
    "            max_diff = diff\n",
    "    return max_diff\n",
    "\n",
    "my_list = [1, 2, 9, 4, 7]\n",
    "print(max_diff_consecutive(my_list))  "
   ]
  },
  {
   "cell_type": "code",
   "execution_count": 30,
   "metadata": {},
   "outputs": [
    {
     "name": "stdout",
     "output_type": "stream",
     "text": [
      "{'a': 1, 'b': 2, 'c': 3, 'd': 4, 'e': 5}\n"
     ]
    }
   ],
   "source": [
    "#merge multiple dictionaries \n",
    "\n",
    "def merge_dictionaries(*dicts):\n",
    "    merged_dict = {}\n",
    "    for d in dicts:\n",
    "        merged_dict.update(d)\n",
    "    return merged_dict\n",
    "\n",
    "dict1 = {'a': 1, 'b': 2}\n",
    "dict2 = {'c': 3, 'd': 4}\n",
    "dict3 = {'e': 5}\n",
    "print(merge_dictionaries(dict1, dict2, dict3))  "
   ]
  },
  {
   "cell_type": "code",
   "execution_count": 1,
   "metadata": {},
   "outputs": [
    {
     "name": "stdout",
     "output_type": "stream",
     "text": [
      "Counter({'python': 1, 'is': 1, 'high': 1, 'level': 1, 'and': 1, 'scripting': 1})\n"
     ]
    }
   ],
   "source": [
    "#find word frequency in a sentence \n",
    "\n",
    "from collections import Counter\n",
    "\n",
    "def word_frequency(sentence):\n",
    "    words = sentence.split()\n",
    "    return Counter(words)\n",
    "\n",
    "sentence = \"python is high level and scripting\"\n",
    "print(word_frequency(sentence))"
   ]
  }
 ],
 "metadata": {
  "kernelspec": {
   "display_name": "Python 3 (ipykernel)",
   "language": "python",
   "name": "python3"
  },
  "language_info": {
   "codemirror_mode": {
    "name": "ipython",
    "version": 3
   },
   "file_extension": ".py",
   "mimetype": "text/x-python",
   "name": "python",
   "nbconvert_exporter": "python",
   "pygments_lexer": "ipython3",
   "version": "3.9.13"
  }
 },
 "nbformat": 4,
 "nbformat_minor": 2
}
