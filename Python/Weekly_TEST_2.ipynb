{
  "nbformat": 4,
  "nbformat_minor": 0,
  "metadata": {
    "colab": {
      "provenance": []
    },
    "kernelspec": {
      "name": "python3",
      "display_name": "Python 3"
    },
    "language_info": {
      "name": "python"
    }
  },
  "cells": [
    {
      "cell_type": "markdown",
      "source": [
        "**Q1: Decorators**  \n",
        "\n",
        "A function that takes another function as its argument, adds some functionality to it and returns yet another function."
      ],
      "metadata": {
        "id": "BnE1MFc0ZE7A"
      }
    },
    {
      "cell_type": "code",
      "execution_count": 5,
      "metadata": {
        "id": "zxYu73NRWOT7",
        "colab": {
          "base_uri": "https://localhost:8080/"
        },
        "outputId": "f64eb095-b334-48d0-9be0-c5da450e7087"
      },
      "outputs": [
        {
          "output_type": "stream",
          "name": "stdout",
          "text": [
            "Adding sprinkles\n",
            "Adding chocolate chips\n",
            "Strawberry ice cream\n"
          ]
        }
      ],
      "source": [
        "def add_sprinkles(func):\n",
        "  def wrapper():\n",
        "    print(\"Adding sprinkles\")\n",
        "    func()\n",
        "  return wrapper\n",
        "\n",
        "def add_chocolate_chips(func):\n",
        "  def wrapper():\n",
        "    print(\"Adding chocolate chips\")\n",
        "    func()\n",
        "  return wrapper\n",
        "\n",
        "@add_sprinkles\n",
        "@add_chocolate_chips\n",
        "def ice_cream():\n",
        "  print(\"Strawberry ice cream\")\n",
        "\n",
        "ice_cream()\n",
        "\n",
        "\n",
        "\n"
      ]
    },
    {
      "cell_type": "markdown",
      "source": [
        "**Q2:**  method overriding and method overloading allow for customizing the behavior of class methods, although Python natively supports overriding but does not directly support overloading like other languages.\n",
        "\n",
        "Method Overloading: Doesn't support method overloading.\n",
        "We defining multiple methods with same name but different arguments within same class."
      ],
      "metadata": {
        "id": "GiHY2hL4ZDLx"
      }
    },
    {
      "cell_type": "code",
      "source": [
        "class Calculator:\n",
        "  def add(self, *args):\n",
        "    result = 0\n",
        "    for arg in args:\n",
        "      result += arg\n",
        "    return result\n",
        "\n",
        "calculator = Calculator()\n",
        "print(calculator.add(1, 2, 3, 4))\n"
      ],
      "metadata": {
        "colab": {
          "base_uri": "https://localhost:8080/"
        },
        "id": "VSFqXGQNfefx",
        "outputId": "6e1fee6e-4deb-4ef8-e810-6427192b2c12"
      },
      "execution_count": 8,
      "outputs": [
        {
          "output_type": "stream",
          "name": "stdout",
          "text": [
            "10\n"
          ]
        }
      ]
    },
    {
      "cell_type": "markdown",
      "source": [
        "**Method Overriding** **->**  must be two classes\n",
        "           \n",
        "  Used in inheritance.\n",
        "  \n",
        "  We have a parent class-> method\n",
        "  \n",
        "  the same method in child class but child class defines same method in its own way method is same parameter/ number of parameters are also same"
      ],
      "metadata": {
        "id": "zJ8hlHRlf5aO"
      }
    },
    {
      "cell_type": "code",
      "source": [
        "class Father:\n",
        "  def sleep(self):\n",
        "    print(('sleeps from 10 pm  to 5 am '))\n",
        "  def eat(self):\n",
        "    print('eating')\n",
        "\n",
        "class Son(Father):\n",
        "  def sleep(self):\n",
        "    print('sleeps from 3pm to 5pm')\n",
        "    super().sleep()\n",
        "\n",
        "\n",
        "Ram=Son()\n",
        "Ram.sleep()\n"
      ],
      "metadata": {
        "colab": {
          "base_uri": "https://localhost:8080/"
        },
        "id": "DwgsW38kf0Up",
        "outputId": "d39072fc-e48e-4824-8f55-e7dd6e663ef5"
      },
      "execution_count": 12,
      "outputs": [
        {
          "output_type": "stream",
          "name": "stdout",
          "text": [
            "sleeps from 3pm to 5pm\n",
            "sleeps from 10 pm  to 5 am \n"
          ]
        }
      ]
    },
    {
      "cell_type": "markdown",
      "source": [
        "**Q3:**  "
      ],
      "metadata": {
        "id": "KaeggeHvjr6b"
      }
    },
    {
      "cell_type": "code",
      "source": [
        "class Base:\n",
        "    def display(self):\n",
        "        print(\"Base Class\")\n",
        "\n",
        "class Child1(Base):\n",
        "    def display(self):\n",
        "        print(\"Child1 Class\")\n",
        "\n",
        "class Child2(Base):\n",
        "    def display(self):\n",
        "        print(\"Child2 Class\")\n",
        "\n",
        "class GrandChild(Child1, Child2):\n",
        "    def display(self):\n",
        "        print(\"GrandChild Class\")\n",
        "\n",
        "obj = GrandChild()\n",
        "obj.display()\n"
      ],
      "metadata": {
        "colab": {
          "base_uri": "https://localhost:8080/"
        },
        "id": "J87PgocBj4Mx",
        "outputId": "88254526-d76b-438a-9cb1-5aa0d64f1664"
      },
      "execution_count": 13,
      "outputs": [
        {
          "output_type": "stream",
          "name": "stdout",
          "text": [
            "GrandChild Class\n"
          ]
        }
      ]
    },
    {
      "cell_type": "markdown",
      "source": [
        "**Q4:**   Time Complexity and Space Complexity\n",
        "\n",
        "**Stacks:**\n",
        "\n",
        "Time Complexity:\n",
        "𝑂\n",
        "(\n",
        "1\n",
        ")\n",
        "O(1) for push and pop operations.\n",
        "\n",
        "\n",
        "Space Complexity:\n",
        "𝑂\n",
        "(\n",
        "𝑛\n",
        ")\n",
        "O(n), where\n",
        "𝑛\n",
        "n is the number of elements in the stack.\n",
        "\n",
        "\n",
        "**Queues:**\n",
        "\n",
        "Time Complexity:\n",
        "𝑂\n",
        "(\n",
        "1\n",
        ")\n",
        "O(1) for enqueue and dequeue operations.\n",
        "Space Complexity:\n",
        "𝑂\n",
        "(\n",
        "𝑛\n",
        ")\n",
        "O(n).\n",
        "\n",
        "**Linked Lists:**\n",
        "\n",
        "Time Complexity:\n",
        "𝑂\n",
        "(\n",
        "𝑛\n",
        ")\n",
        "O(n) for traversal and\n",
        "𝑂\n",
        "(\n",
        "1\n",
        ")\n",
        "O(1) for insertion and deletion (at the beginning).\n",
        "\n",
        "\n",
        "Space Complexity:\n",
        "𝑂\n",
        "(\n",
        "𝑛\n",
        ")\n",
        "O(n)."
      ],
      "metadata": {
        "id": "b4SfNewnkDWt"
      }
    },
    {
      "cell_type": "markdown",
      "source": [
        "**Q5:**\n",
        "\n",
        "  **st.button()**  ->\n",
        "A button that users can click to trigger an action.\n",
        " Often used to submit forms, trigger data processing, or control visibility of specific sections.\n",
        "\n",
        "** st.selectbox()** ->  Provides a dropdown list where users can select one option from multiple choices.\n",
        " Useful for selecting from a set of predefined options, like categories or filters.\n",
        "\n",
        "** st.slider()** ->  A slider widget that allows users to select a numeric range or value.\n",
        "Commonly used for selecting a number within a range, such as setting an age limit, budget, or time duration.\n"
      ],
      "metadata": {
        "id": "vOf15mD7kv_7"
      }
    },
    {
      "cell_type": "code",
      "source": [
        "import streamlit as st\n",
        "\n",
        "if st.button('Click Me'):\n",
        "    st.write(\"Button was clicked!\")\n",
        "else:\n",
        "    st.write(\"Button not clicked yet.\")\n",
        "\n",
        "#st.selectbox()\n",
        "options = [\"Python\", \"JavaScript\", \"Java\", \"C++\"]\n",
        "choice = st.selectbox(\"Choose a programming language:\", options)\n",
        "\n",
        "st.write(\"You selected:\", choice)\n",
        "\n",
        "#st.slider()\n",
        "age = st.slider(\"Select your age:\", 0, 100, 25)\n",
        "st.write(\"Your age is:\", age)"
      ],
      "metadata": {
        "id": "4TmT5M_FnisO"
      },
      "execution_count": null,
      "outputs": []
    },
    {
      "cell_type": "markdown",
      "source": [
        "**Q6:**        In Streamlit, sessions help manage stateful interactions, enabling you to retain data or configurations across user interactions without resetting each time the page refreshes. Since Streamlit apps usually rerun top-to-bottom on every user interaction, session management is essential to avoid losing information between reruns (such as form inputs, counters, or user authentication states).\n",
        "\n",
        "Defining Session State Variables\n",
        "You can define variables in **\"st.session_state\"** like a dictionary, initializing them only once."
      ],
      "metadata": {
        "id": "ABUBJ6Sznl8H"
      }
    },
    {
      "cell_type": "code",
      "source": [
        "import streamlit as st\n",
        "\n",
        "# Initialize a session state variable (if it doesn't exist)\n",
        "if \"counter\" not in st.session_state:\n",
        "    st.session_state.counter = 0\n",
        "\n",
        "# Function to increase the counter\n",
        "def increment():\n",
        "    st.session_state.counter += 1\n",
        "\n",
        "# Button to increment the counter\n",
        "st.button(\"Increment\", on_click=increment)\n",
        "\n",
        "# Display the counter value\n",
        "st.write(\"Counter:\", st.session_state.counter)"
      ],
      "metadata": {
        "id": "sQ1S1-IgoPRX"
      },
      "execution_count": null,
      "outputs": []
    },
    {
      "cell_type": "markdown",
      "source": [
        "**Q7:**       \n",
        "\n",
        "Create a Python file: Make sure your file has a .py extension -> app.py\n",
        "\n",
        "Open Terminal or Command Prompt ->\n",
        "Navigate to the directory where your Python file is located.\n",
        "\n",
        "Run the Streamlit File -> command\n",
        "\n",
        "**streamlit run app.py**\n",
        "\n",
        "\n"
      ],
      "metadata": {
        "id": "o7vcyXsxoRnn"
      }
    },
    {
      "cell_type": "markdown",
      "source": [
        "**Q8:**    Plot graph such as bar chart, pie chart   "
      ],
      "metadata": {
        "id": "wemACTMypiuP"
      }
    },
    {
      "cell_type": "code",
      "source": [
        "import matplotlib.pyplot as plt\n",
        "\n",
        "def plot_bar_chart(categories, values):\n",
        "    \"\"\"Plot a bar chart.\"\"\"\n",
        "    plt.figure(figsize=(8, 5))\n",
        "    plt.bar(categories, values, color='skyblue')\n",
        "    plt.xlabel('Categories')\n",
        "    plt.ylabel('Values')\n",
        "    plt.title('Bar Chart')\n",
        "    plt.show()\n",
        "\n",
        "def plot_pie_chart(categories, values):\n",
        "    \"\"\"Plot a pie chart.\"\"\"\n",
        "    plt.figure(figsize=(6, 6))\n",
        "    plt.pie(values, labels=categories, autopct='%1.1f%%', startangle=140)\n",
        "    plt.title('Pie Chart')\n",
        "    plt.show()\n",
        "\n",
        "# Example data\n",
        "categories = ['Category A', 'Category B', 'Category C', 'Category D']\n",
        "values = [15, 30, 45, 10]\n",
        "\n",
        "# Plot bar chart\n",
        "plot_bar_chart(categories, values)\n",
        "\n",
        "# Plot pie chart\n",
        "plot_pie_chart(categories, values)\n"
      ],
      "metadata": {
        "colab": {
          "base_uri": "https://localhost:8080/",
          "height": 1000
        },
        "id": "ff-1rZlgp1UO",
        "outputId": "c7cdcb4d-f6f4-4a87-c4fe-e1d6c5da0a67"
      },
      "execution_count": 24,
      "outputs": [
        {
          "output_type": "display_data",
          "data": {
            "text/plain": [
              "<Figure size 640x480 with 1 Axes>"
            ],
            "image/png": "[encoded data removed]"
          },
          "metadata": {}
        },
        {
          "output_type": "display_data",
          "data": {
            "text/plain": [
              "<Figure size 800x500 with 1 Axes>"
            ],
            "image/png": "[encoded data removed]"
          },
          "metadata": {}
        },
        {
          "output_type": "display_data",
          "data": {
            "text/plain": [
              "<Figure size 600x600 with 1 Axes>"
            ],
            "image/png": "[encoded data removed]"
          },
          "metadata": {}
        }
      ]
    }
  ]
}