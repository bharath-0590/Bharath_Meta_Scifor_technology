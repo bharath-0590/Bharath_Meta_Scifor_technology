{
  "nbformat": 4,
  "nbformat_minor": 0,
  "metadata": {
    "colab": {
      "provenance": []
    },
    "kernelspec": {
      "name": "python3",
      "display_name": "Python 3"
    },
    "language_info": {
      "name": "python"
    }
  },
  "cells": [
    {
      "cell_type": "markdown",
      "source": [
        "**NLP**\n",
        "\n",
        "**Write a program of text processing**"
      ],
      "metadata": {
        "id": "z4qrEye5uQ-R"
      }
    },
    {
      "cell_type": "code",
      "execution_count": 46,
      "metadata": {
        "id": "SX_xvbBCmN2y"
      },
      "outputs": [],
      "source": [
        "import nltk\n",
        "from nltk.tokenize import word_tokenize\n",
        "from nltk.corpus import stopwords\n",
        "from nltk.stem import PorterStemmer"
      ]
    },
    {
      "cell_type": "code",
      "source": [
        "# Sample text\n",
        "text = \"NLP is a fascinating field that combines computer science and linguistics!\"\n",
        "print(text)"
      ],
      "metadata": {
        "colab": {
          "base_uri": "https://localhost:8080/"
        },
        "id": "UGMQN7fonAao",
        "outputId": "d00a37fd-4271-46c7-80ee-c182af3b5598"
      },
      "execution_count": 57,
      "outputs": [
        {
          "output_type": "stream",
          "name": "stdout",
          "text": [
            "NLP is a fascinating field that combines computer science and linguistics!\n"
          ]
        }
      ]
    },
    {
      "cell_type": "code",
      "source": [
        "# Tokenization\n",
        "tokens = word_tokenize(text)\n",
        "print(\"Tokens:\", tokens)"
      ],
      "metadata": {
        "colab": {
          "base_uri": "https://localhost:8080/"
        },
        "id": "cn0ml622nnG2",
        "outputId": "f495a147-ca73-42e4-a624-ba70b9bba503"
      },
      "execution_count": 51,
      "outputs": [
        {
          "output_type": "stream",
          "name": "stdout",
          "text": [
            "Tokens: ['NLP', 'is', 'a', 'fascinating', 'field', 'that', 'combines', 'computer', 'science', 'and', 'linguistics', '!']\n"
          ]
        }
      ]
    },
    {
      "cell_type": "code",
      "source": [
        "# Remove stopwords\n",
        "nltk.download('stopwords')\n",
        "stop_words = set(stopwords.words(\"english\"))\n",
        "filtered_tokens = [word for word in tokens if word.lower() not in stop_words]\n",
        "print(filtered_tokens)"
      ],
      "metadata": {
        "colab": {
          "base_uri": "https://localhost:8080/"
        },
        "id": "GpBKtRLDnxr0",
        "outputId": "99b1f743-f8d7-435b-c52b-4e88b6bc498f"
      },
      "execution_count": 54,
      "outputs": [
        {
          "output_type": "stream",
          "name": "stdout",
          "text": [
            "['NLP', 'fascinating', 'field', 'combines', 'computer', 'science', 'linguistics', '!']\n"
          ]
        },
        {
          "output_type": "stream",
          "name": "stderr",
          "text": [
            "[nltk_data] Downloading package stopwords to /root/nltk_data...\n",
            "[nltk_data]   Package stopwords is already up-to-date!\n"
          ]
        }
      ]
    },
    {
      "cell_type": "code",
      "source": [
        "# Stemming\n",
        "stemmer = PorterStemmer()\n",
        "stemmed_words = [stemmer.stem(word) for word in filtered_tokens]\n",
        "print(stemmed_words)"
      ],
      "metadata": {
        "colab": {
          "base_uri": "https://localhost:8080/"
        },
        "id": "pmXb4Y0zrAVF",
        "outputId": "9db5a3e3-9af3-4794-ab00-6e7972b4c3cb"
      },
      "execution_count": 55,
      "outputs": [
        {
          "output_type": "stream",
          "name": "stdout",
          "text": [
            "['nlp', 'fascin', 'field', 'combin', 'comput', 'scienc', 'linguist', '!']\n"
          ]
        }
      ]
    },
    {
      "cell_type": "markdown",
      "source": [
        "**Write a program to implement NLP based upon spacy**"
      ],
      "metadata": {
        "id": "7ylESmtyt5aP"
      }
    },
    {
      "cell_type": "code",
      "source": [
        "import spacy"
      ],
      "metadata": {
        "id": "_urVCWsDrD0w"
      },
      "execution_count": 56,
      "outputs": []
    },
    {
      "cell_type": "code",
      "source": [
        "# Load spaCy's pre-trained model\n",
        "nlp = spacy.load(\"en_core_web_sm\")"
      ],
      "metadata": {
        "id": "QjsVt4vGvduO"
      },
      "execution_count": 61,
      "outputs": []
    },
    {
      "cell_type": "code",
      "source": [
        "data  =\"Apple is looking to buy a startup based in San Francisco for $1 billion.\""
      ],
      "metadata": {
        "id": "XcSTohKHucDd"
      },
      "execution_count": 66,
      "outputs": []
    },
    {
      "cell_type": "code",
      "source": [
        "#process the data\n",
        "doc = nlp(data)\n",
        "print(doc)"
      ],
      "metadata": {
        "colab": {
          "base_uri": "https://localhost:8080/"
        },
        "id": "t1kzMmawvVtg",
        "outputId": "e9bd8313-2f99-4afd-a254-f975bfc431c9"
      },
      "execution_count": 65,
      "outputs": [
        {
          "output_type": "stream",
          "name": "stdout",
          "text": [
            "Apple is looking to buy a startup based in San Francisco for $1 billion.\n"
          ]
        }
      ]
    },
    {
      "cell_type": "code",
      "source": [
        "# Tokenization and stopword removal\n",
        "tokens = [token.text for token in doc if not token.is_stop]\n",
        "print(tokens)"
      ],
      "metadata": {
        "colab": {
          "base_uri": "https://localhost:8080/"
        },
        "id": "XVg3p_U4v5wZ",
        "outputId": "03513e8f-9d3c-4da2-8983-363f3403f69b"
      },
      "execution_count": 68,
      "outputs": [
        {
          "output_type": "stream",
          "name": "stdout",
          "text": [
            "['Apple', 'looking', 'buy', 'startup', 'based', 'San', 'Francisco', '$', '1', 'billion', '.']\n"
          ]
        }
      ]
    },
    {
      "cell_type": "code",
      "source": [
        "# Named Entity Recognition (NER)\n",
        "entities = [(ent.text, ent.label_) for ent in doc.ents]\n",
        "print(entities)"
      ],
      "metadata": {
        "colab": {
          "base_uri": "https://localhost:8080/"
        },
        "id": "0xG-79EzwCi5",
        "outputId": "783a83e5-519b-4f75-f2b6-69fe575d3632"
      },
      "execution_count": 70,
      "outputs": [
        {
          "output_type": "stream",
          "name": "stdout",
          "text": [
            "[('Apple', 'ORG'), ('San Francisco', 'GPE'), ('$1 billion', 'MONEY')]\n"
          ]
        }
      ]
    },
    {
      "cell_type": "markdown",
      "source": [
        "**Statistics**\n",
        "\n",
        "-> **Difference b/n descriptive and inferential statistics**\n",
        "\n",
        "**Definition**\n",
        "\n",
        "* Descriptive Statistics: Involves methods for summarizing and organizing data to describe its main features.\n",
        "\n",
        "* Inferential Statistics: Involves techniques that allow us to make generalizations or predictions about a population based on sample data.\n",
        "\n",
        "**Purpose**\n",
        "\n",
        "* Descriptive Statistics: Aims to provide a clear and concise summary of the data.\n",
        "\n",
        "* Inferential Statistics: Aims to draw conclusions and make predictions about a larger population based on a sample.\n",
        "\n",
        "**Scope of Data**\n",
        "\n",
        "* Descriptive Statistics: Deals with the actual data collected (e.g., survey results, test scores).\n",
        "\n",
        "* Inferential Statistics: Deals with sample data to infer characteristics of a larger population (e.g., predicting election outcomes).\n",
        "\n",
        "**Data Presentation**\n",
        "\n",
        "* Descriptive Statistics: Utilizes graphs, charts, and summary statistics (e.g., mean, median, mode) to present data.\n",
        "\n",
        "* Inferential Statistics: Often involves confidence intervals, hypothesis tests, and regression models to present findings.\n",
        "\n",
        "**Sample vs. Population**\n",
        "\n",
        "* Descriptive Statistics: Can be applied to both populations and samples, providing summaries of the data collected.\n",
        "\n",
        "* Inferential Statistics: Primarily focuses on samples to make inferences about the larger population from which the sample is drawn.\n",
        "\n",
        "**Outcome**\n",
        "\n",
        "* Descriptive Statistics: Results are strictly descriptive and do not make predictions or generalizations.\n",
        "\n",
        "* Inferential Statistics: Results can lead to conclusions that extend beyond the sample to the population.\n",
        "\n",
        "**Complexity**\n",
        "\n",
        "* Descriptive Statistics: Generally simpler and easier to compute and interpret.\n",
        "\n",
        "* Inferential Statistics: More complex, often requiring a deeper understanding of statistical theory and methods.\n",
        "\n",
        "**Assumptions**\n",
        "* Descriptive Statistics: Does not require assumptions about the distribution of data.\n",
        "\n",
        "* Inferential Statistics: Often relies on assumptions regarding the population distribution (e.g., normality).\n",
        "\n",
        "**Examples**\n",
        "\n",
        "* Descriptive Statistics: Calculating the average age of participants in a study.\n",
        "\n",
        "* Inferential Statistics: Estimating the average age of all participants in a city based on a sample.\n",
        "\n",
        "**Tools and Techniques**\n",
        "\n",
        "* Descriptive Statistics: Involves basic statistical tools and software (e.g., Excel, basic calculators).\n",
        "\n",
        "* Inferential Statistics: Utilizes more advanced statistical software (e.g., R, Python) for analysis.\n",
        "\n",
        "**Interpretation**\n",
        "\n",
        "* Descriptive Statistics: Interpretation is straightforward and relates directly to the data collected.\n",
        "\n",
        "* Inferential Statistics: Requires careful interpretation, as it involves uncertainty and the potential for sampling error.\n",
        "\n",
        "**Applications**\n",
        "\n",
        "* Descriptive Statistics: Used in reporting and summarizing findings in research papers, surveys, and business reports.\n",
        "* Inferential Statistics: Used in research to test hypotheses and make predictions about future events or trends.\n",
        "\n",
        "\n",
        "**Decision-Making**\n",
        "\n",
        "* Descriptive Statistics: Helps in understanding data trends, distributions, and patterns.\n",
        "\n",
        "* Inferential Statistics: Aids in decision-making by providing evidence to support conclusions about the population.\n",
        "\n",
        "\n"
      ],
      "metadata": {
        "id": "48Te49gVwmt2"
      }
    },
    {
      "cell_type": "code",
      "source": [],
      "metadata": {
        "id": "HfQDJrj12_z-"
      },
      "execution_count": null,
      "outputs": []
    }
  ]
}